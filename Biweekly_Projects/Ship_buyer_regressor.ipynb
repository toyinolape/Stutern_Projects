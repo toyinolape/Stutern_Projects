{
 "cells": [
  {
   "cell_type": "markdown",
   "metadata": {},
   "source": [
    "BI- WEEKLY CHALLENGE(Week 2)\n",
    "\n",
    "Now is better than never.\n",
    "Although never is often better than *right* now.\n",
    "~ Zen of python\n",
    "\n",
    "This coding exercise is to test your knowledge on what you have learnt so far. You are free to use the internet and any other libraries.\n",
    "Objective: Build a regressor that recommends the crew member size for potential ship buyers. \n",
    "Data\n",
    "\n",
    "Please do the following steps (hint: use numpy, scipy, pandas, sklearn)\n",
    "1. Read the file and display columns.\n",
    "2. Calculate basic statistics of the data (count, mean, std, etc) and examine data and state your  observations.\n",
    "3. Select columns that will be probably important to predict crew size.\n",
    " Create training and testing sets (use 60% of the data for the training and reminder for testing).\n",
    "4. Build a machine learning model to predict the crew size.\n",
    "5. Calculate the Pearson correlation coefficient for the training set and testing data sets.\n",
    "6. Explain Overfitting, and How Can You Avoid It? \n",
    "7. What’s the difference between bias and variance?\n",
    "8. When Will You Use Classification over Regression?\n",
    "\n",
    "Remark: This is an example of a very straightforward problem. The dataset is clean and small (160 rows and 9 columns), and the instructions are very clear. What is needed is to follow the instructions and generate your code.\n",
    "\n",
    "Good luck!\n",
    "\n",
    "Resource\n",
    "Class notebook\n"
   ]
  },
  {
   "cell_type": "markdown",
   "metadata": {},
   "source": [
    "## Introduction"
   ]
  },
  {
   "cell_type": "markdown",
   "metadata": {},
   "source": [
    "There are 2 categorical features and 7 numerical features. The required python libraries are run in order to use their functions and methods for the Analysis to determine the crew member size."
   ]
  },
  {
   "cell_type": "code",
   "execution_count": 92,
   "metadata": {},
   "outputs": [],
   "source": [
    "import numpy as np\n",
    "import pandas as pd\n",
    "import scipy as sci\n",
    "import matplotlib.pyplot as plt\n",
    "import seaborn as sns"
   ]
  },
  {
   "cell_type": "code",
   "execution_count": 93,
   "metadata": {},
   "outputs": [
    {
     "data": {
      "text/html": [
       "<div>\n",
       "<style scoped>\n",
       "    .dataframe tbody tr th:only-of-type {\n",
       "        vertical-align: middle;\n",
       "    }\n",
       "\n",
       "    .dataframe tbody tr th {\n",
       "        vertical-align: top;\n",
       "    }\n",
       "\n",
       "    .dataframe thead th {\n",
       "        text-align: right;\n",
       "    }\n",
       "</style>\n",
       "<table border=\"1\" class=\"dataframe\">\n",
       "  <thead>\n",
       "    <tr style=\"text-align: right;\">\n",
       "      <th></th>\n",
       "      <th>Ship_name</th>\n",
       "      <th>Cruise_line</th>\n",
       "      <th>Age</th>\n",
       "      <th>Tonnage</th>\n",
       "      <th>passengers</th>\n",
       "      <th>length</th>\n",
       "      <th>cabins</th>\n",
       "      <th>passenger_density</th>\n",
       "      <th>crew</th>\n",
       "    </tr>\n",
       "  </thead>\n",
       "  <tbody>\n",
       "    <tr>\n",
       "      <th>0</th>\n",
       "      <td>Journey</td>\n",
       "      <td>Azamara</td>\n",
       "      <td>6</td>\n",
       "      <td>30.277</td>\n",
       "      <td>6.94</td>\n",
       "      <td>5.94</td>\n",
       "      <td>3.55</td>\n",
       "      <td>42.64</td>\n",
       "      <td>3.55</td>\n",
       "    </tr>\n",
       "    <tr>\n",
       "      <th>1</th>\n",
       "      <td>Quest</td>\n",
       "      <td>Azamara</td>\n",
       "      <td>6</td>\n",
       "      <td>30.277</td>\n",
       "      <td>6.94</td>\n",
       "      <td>5.94</td>\n",
       "      <td>3.55</td>\n",
       "      <td>42.64</td>\n",
       "      <td>3.55</td>\n",
       "    </tr>\n",
       "    <tr>\n",
       "      <th>2</th>\n",
       "      <td>Celebration</td>\n",
       "      <td>Carnival</td>\n",
       "      <td>26</td>\n",
       "      <td>47.262</td>\n",
       "      <td>14.86</td>\n",
       "      <td>7.22</td>\n",
       "      <td>7.43</td>\n",
       "      <td>31.80</td>\n",
       "      <td>6.70</td>\n",
       "    </tr>\n",
       "    <tr>\n",
       "      <th>3</th>\n",
       "      <td>Conquest</td>\n",
       "      <td>Carnival</td>\n",
       "      <td>11</td>\n",
       "      <td>110.000</td>\n",
       "      <td>29.74</td>\n",
       "      <td>9.53</td>\n",
       "      <td>14.88</td>\n",
       "      <td>36.99</td>\n",
       "      <td>19.10</td>\n",
       "    </tr>\n",
       "    <tr>\n",
       "      <th>4</th>\n",
       "      <td>Destiny</td>\n",
       "      <td>Carnival</td>\n",
       "      <td>17</td>\n",
       "      <td>101.353</td>\n",
       "      <td>26.42</td>\n",
       "      <td>8.92</td>\n",
       "      <td>13.21</td>\n",
       "      <td>38.36</td>\n",
       "      <td>10.00</td>\n",
       "    </tr>\n",
       "  </tbody>\n",
       "</table>\n",
       "</div>"
      ],
      "text/plain": [
       "     Ship_name Cruise_line  Age  Tonnage  passengers  length  cabins  \\\n",
       "0      Journey     Azamara    6   30.277        6.94    5.94    3.55   \n",
       "1        Quest     Azamara    6   30.277        6.94    5.94    3.55   \n",
       "2  Celebration    Carnival   26   47.262       14.86    7.22    7.43   \n",
       "3     Conquest    Carnival   11  110.000       29.74    9.53   14.88   \n",
       "4      Destiny    Carnival   17  101.353       26.42    8.92   13.21   \n",
       "\n",
       "   passenger_density   crew  \n",
       "0              42.64   3.55  \n",
       "1              42.64   3.55  \n",
       "2              31.80   6.70  \n",
       "3              36.99  19.10  \n",
       "4              38.36  10.00  "
      ]
     },
     "execution_count": 93,
     "metadata": {},
     "output_type": "execute_result"
    }
   ],
   "source": [
    "ship  = pd.read_csv(\"C:\\\\Users\\\\TOYIN OLAPE\\\\Documents\\\\Stutern\\\\Data Sets\\\\ship_info.csv\")\n",
    "ship.head()\n"
   ]
  },
  {
   "cell_type": "code",
   "execution_count": 94,
   "metadata": {},
   "outputs": [
    {
     "data": {
      "text/plain": [
       "(158, 9)"
      ]
     },
     "execution_count": 94,
     "metadata": {},
     "output_type": "execute_result"
    }
   ],
   "source": [
    "ship.shape"
   ]
  },
  {
   "cell_type": "code",
   "execution_count": 95,
   "metadata": {},
   "outputs": [
    {
     "data": {
      "text/html": [
       "<div>\n",
       "<style scoped>\n",
       "    .dataframe tbody tr th:only-of-type {\n",
       "        vertical-align: middle;\n",
       "    }\n",
       "\n",
       "    .dataframe tbody tr th {\n",
       "        vertical-align: top;\n",
       "    }\n",
       "\n",
       "    .dataframe thead th {\n",
       "        text-align: right;\n",
       "    }\n",
       "</style>\n",
       "<table border=\"1\" class=\"dataframe\">\n",
       "  <thead>\n",
       "    <tr style=\"text-align: right;\">\n",
       "      <th></th>\n",
       "      <th>Unique_Values</th>\n",
       "      <th>Data_type</th>\n",
       "    </tr>\n",
       "  </thead>\n",
       "  <tbody>\n",
       "    <tr>\n",
       "      <th>Ship_name</th>\n",
       "      <td>138</td>\n",
       "      <td>object</td>\n",
       "    </tr>\n",
       "    <tr>\n",
       "      <th>Cruise_line</th>\n",
       "      <td>20</td>\n",
       "      <td>object</td>\n",
       "    </tr>\n",
       "    <tr>\n",
       "      <th>Age</th>\n",
       "      <td>31</td>\n",
       "      <td>int64</td>\n",
       "    </tr>\n",
       "    <tr>\n",
       "      <th>Tonnage</th>\n",
       "      <td>94</td>\n",
       "      <td>float64</td>\n",
       "    </tr>\n",
       "    <tr>\n",
       "      <th>passengers</th>\n",
       "      <td>104</td>\n",
       "      <td>float64</td>\n",
       "    </tr>\n",
       "    <tr>\n",
       "      <th>length</th>\n",
       "      <td>80</td>\n",
       "      <td>float64</td>\n",
       "    </tr>\n",
       "    <tr>\n",
       "      <th>cabins</th>\n",
       "      <td>98</td>\n",
       "      <td>float64</td>\n",
       "    </tr>\n",
       "    <tr>\n",
       "      <th>passenger_density</th>\n",
       "      <td>109</td>\n",
       "      <td>float64</td>\n",
       "    </tr>\n",
       "    <tr>\n",
       "      <th>crew</th>\n",
       "      <td>91</td>\n",
       "      <td>float64</td>\n",
       "    </tr>\n",
       "  </tbody>\n",
       "</table>\n",
       "</div>"
      ],
      "text/plain": [
       "                   Unique_Values Data_type\n",
       "Ship_name                    138    object\n",
       "Cruise_line                   20    object\n",
       "Age                           31     int64\n",
       "Tonnage                       94   float64\n",
       "passengers                   104   float64\n",
       "length                        80   float64\n",
       "cabins                        98   float64\n",
       "passenger_density            109   float64\n",
       "crew                          91   float64"
      ]
     },
     "execution_count": 95,
     "metadata": {},
     "output_type": "execute_result"
    }
   ],
   "source": [
    "pd.DataFrame({\"Unique_Values\": ship.nunique(),\"Data_type\" : ship.dtypes})"
   ]
  },
  {
   "cell_type": "code",
   "execution_count": 96,
   "metadata": {},
   "outputs": [
    {
     "data": {
      "image/png": "[encoded data removed]",
      "text/plain": [
       "<Figure size 1080x720 with 7 Axes>"
      ]
     },
     "metadata": {
      "needs_background": "light"
     },
     "output_type": "display_data"
    }
   ],
   "source": [
    "plt.figure(figsize=(15,10))\n",
    "plt.subplot(3,3,1)\n",
    "plt.hist(x = ship[\"Age\"])\n",
    "plt.title(\"Age\")\n",
    "\n",
    "plt.subplot(3,3,2)\n",
    "plt.hist(x = ship[\"Tonnage\"])\n",
    "plt.title(\"Tonnage\")\n",
    "\n",
    "plt.subplot(3,3,3)\n",
    "plt.hist(x = ship[\"passengers\"])\n",
    "plt.title(\"passengers\")\n",
    "\n",
    "plt.subplot(3,3,4)\n",
    "plt.hist(x = ship[\"length\"])\n",
    "plt.title(\"length\")\n",
    "\n",
    "plt.subplot(3,3,5)\n",
    "plt.hist(x = ship[\"cabins\"])\n",
    "plt.title(\"cabins\")\n",
    "\n",
    "plt.subplot(3,3,6)\n",
    "plt.hist(x = ship[\"passenger_density\"])\n",
    "plt.title(\"passenger_density\")\n",
    "\n",
    "#How do i achieve this with iteration \n",
    "plt.subplot(3,3,7)\n",
    "plt.hist(x = ship[\"crew\"])\n",
    "plt.title(\"crew\")\n",
    "\n",
    "\n",
    "plt.show()"
   ]
  },
  {
   "cell_type": "code",
   "execution_count": 97,
   "metadata": {},
   "outputs": [
    {
     "data": {
      "text/html": [
       "<div>\n",
       "<style scoped>\n",
       "    .dataframe tbody tr th:only-of-type {\n",
       "        vertical-align: middle;\n",
       "    }\n",
       "\n",
       "    .dataframe tbody tr th {\n",
       "        vertical-align: top;\n",
       "    }\n",
       "\n",
       "    .dataframe thead th {\n",
       "        text-align: right;\n",
       "    }\n",
       "</style>\n",
       "<table border=\"1\" class=\"dataframe\">\n",
       "  <thead>\n",
       "    <tr style=\"text-align: right;\">\n",
       "      <th></th>\n",
       "      <th>Age</th>\n",
       "      <th>Tonnage</th>\n",
       "      <th>passengers</th>\n",
       "      <th>length</th>\n",
       "      <th>cabins</th>\n",
       "      <th>passenger_density</th>\n",
       "      <th>crew</th>\n",
       "    </tr>\n",
       "  </thead>\n",
       "  <tbody>\n",
       "    <tr>\n",
       "      <th>count</th>\n",
       "      <td>158.000000</td>\n",
       "      <td>158.000000</td>\n",
       "      <td>158.000000</td>\n",
       "      <td>158.000000</td>\n",
       "      <td>158.000000</td>\n",
       "      <td>158.000000</td>\n",
       "      <td>158.000000</td>\n",
       "    </tr>\n",
       "    <tr>\n",
       "      <th>mean</th>\n",
       "      <td>15.689873</td>\n",
       "      <td>71.284671</td>\n",
       "      <td>18.457405</td>\n",
       "      <td>8.130633</td>\n",
       "      <td>8.830000</td>\n",
       "      <td>39.900949</td>\n",
       "      <td>7.794177</td>\n",
       "    </tr>\n",
       "    <tr>\n",
       "      <th>std</th>\n",
       "      <td>7.615691</td>\n",
       "      <td>37.229540</td>\n",
       "      <td>9.677095</td>\n",
       "      <td>1.793474</td>\n",
       "      <td>4.471417</td>\n",
       "      <td>8.639217</td>\n",
       "      <td>3.503487</td>\n",
       "    </tr>\n",
       "    <tr>\n",
       "      <th>min</th>\n",
       "      <td>4.000000</td>\n",
       "      <td>2.329000</td>\n",
       "      <td>0.660000</td>\n",
       "      <td>2.790000</td>\n",
       "      <td>0.330000</td>\n",
       "      <td>17.700000</td>\n",
       "      <td>0.590000</td>\n",
       "    </tr>\n",
       "    <tr>\n",
       "      <th>25%</th>\n",
       "      <td>10.000000</td>\n",
       "      <td>46.013000</td>\n",
       "      <td>12.535000</td>\n",
       "      <td>7.100000</td>\n",
       "      <td>6.132500</td>\n",
       "      <td>34.570000</td>\n",
       "      <td>5.480000</td>\n",
       "    </tr>\n",
       "    <tr>\n",
       "      <th>50%</th>\n",
       "      <td>14.000000</td>\n",
       "      <td>71.899000</td>\n",
       "      <td>19.500000</td>\n",
       "      <td>8.555000</td>\n",
       "      <td>9.570000</td>\n",
       "      <td>39.085000</td>\n",
       "      <td>8.150000</td>\n",
       "    </tr>\n",
       "    <tr>\n",
       "      <th>75%</th>\n",
       "      <td>20.000000</td>\n",
       "      <td>90.772500</td>\n",
       "      <td>24.845000</td>\n",
       "      <td>9.510000</td>\n",
       "      <td>10.885000</td>\n",
       "      <td>44.185000</td>\n",
       "      <td>9.990000</td>\n",
       "    </tr>\n",
       "    <tr>\n",
       "      <th>max</th>\n",
       "      <td>48.000000</td>\n",
       "      <td>220.000000</td>\n",
       "      <td>54.000000</td>\n",
       "      <td>11.820000</td>\n",
       "      <td>27.000000</td>\n",
       "      <td>71.430000</td>\n",
       "      <td>21.000000</td>\n",
       "    </tr>\n",
       "  </tbody>\n",
       "</table>\n",
       "</div>"
      ],
      "text/plain": [
       "              Age     Tonnage  passengers      length      cabins  \\\n",
       "count  158.000000  158.000000  158.000000  158.000000  158.000000   \n",
       "mean    15.689873   71.284671   18.457405    8.130633    8.830000   \n",
       "std      7.615691   37.229540    9.677095    1.793474    4.471417   \n",
       "min      4.000000    2.329000    0.660000    2.790000    0.330000   \n",
       "25%     10.000000   46.013000   12.535000    7.100000    6.132500   \n",
       "50%     14.000000   71.899000   19.500000    8.555000    9.570000   \n",
       "75%     20.000000   90.772500   24.845000    9.510000   10.885000   \n",
       "max     48.000000  220.000000   54.000000   11.820000   27.000000   \n",
       "\n",
       "       passenger_density        crew  \n",
       "count         158.000000  158.000000  \n",
       "mean           39.900949    7.794177  \n",
       "std             8.639217    3.503487  \n",
       "min            17.700000    0.590000  \n",
       "25%            34.570000    5.480000  \n",
       "50%            39.085000    8.150000  \n",
       "75%            44.185000    9.990000  \n",
       "max            71.430000   21.000000  "
      ]
     },
     "execution_count": 97,
     "metadata": {},
     "output_type": "execute_result"
    }
   ],
   "source": [
    "ship.describe()"
   ]
  },
  {
   "cell_type": "markdown",
   "metadata": {},
   "source": [
    "From the graphical and statistical summary above we can infer the following:\n",
    "\n",
    "* Age: While average age of the ships is approximately 15 years, we have an age range of 4 - 48 year old ships. I can infer that majority of the ships are below 20 years. \n",
    "\n",
    "* Tonnage: The average tonnage a ship can haul is approximately 71.8tonnes, with a range of 2.3 - 90.77 tonnes. I can infer that majority of the ships can carry a tonnage of 90.7 tonnes and less.\n",
    "\n",
    "* Passengers: The average ship can carry 18 passenger, with a range of 1 - 54 passangers. I can infer that majority of the ships can carry 25 passengers and below.\n",
    "\n",
    "* Length : The average length of all the ships is 8.13, with the ship lengths ranging from 2.7 - 11.8. I can infer that majority of the ships are less than 9.5 in length.\n",
    "\n",
    "* Cabin: The average ship has at most 8 cabins which range from barely 1 to 27 cabins. I can infer that majority of the ships have less than 11 cabins on their ship. \n"
   ]
  },
  {
   "cell_type": "code",
   "execution_count": 98,
   "metadata": {
    "scrolled": true
   },
   "outputs": [
    {
     "name": "stdout",
     "output_type": "stream",
     "text": [
      "Cruise_line\n",
      "Royal_Caribbean     23\n",
      "Carnival            22\n",
      "Princess            17\n",
      "Holland_American    14\n",
      "Norwegian           13\n",
      "Name: crew, dtype: int64\n"
     ]
    }
   ],
   "source": [
    "cat_group1 = ship.groupby([\"Cruise_line\"])[\"crew\"].count().sort_values(ascending = False)\n",
    "\n",
    "print(cat_group.head())"
   ]
  },
  {
   "cell_type": "code",
   "execution_count": 99,
   "metadata": {},
   "outputs": [
    {
     "data": {
      "image/png": "[encoded data removed]",
      "text/plain": [
       "<Figure size 720x576 with 1 Axes>"
      ]
     },
     "metadata": {
      "needs_background": "light"
     },
     "output_type": "display_data"
    }
   ],
   "source": [
    "#Plot of the crew size by the ship name or cruise line \n",
    "\n",
    "plt.figure(figsize=(10,8))\n",
    "cat_group.plot(kind='bar',stacked=True)\n",
    "\n",
    "plt.show()"
   ]
  },
  {
   "cell_type": "code",
   "execution_count": 100,
   "metadata": {},
   "outputs": [
    {
     "name": "stdout",
     "output_type": "stream",
     "text": [
      "Ship_name\n",
      "Spirit       4\n",
      "Star         3\n",
      "Legend       3\n",
      "Mariner      2\n",
      "Navigator    2\n",
      "Name: crew, dtype: int64\n"
     ]
    }
   ],
   "source": [
    "cat_group2 = ship.groupby([\"Ship_name\"])[\"crew\"].count().sort_values(ascending = False)\n",
    "\n",
    "print(cat_group2.head())"
   ]
  },
  {
   "cell_type": "markdown",
   "metadata": {},
   "source": [
    "Royal Caribean has the most ships under its cruise line while Orient has the least. 4 Ships are named \"Spirit\" which seems to be the most reoccuring name."
   ]
  },
  {
   "cell_type": "code",
   "execution_count": 101,
   "metadata": {},
   "outputs": [],
   "source": [
    "ship_num = ship.select_dtypes(include = [\"float\",\"int\"]) \n",
    "ship_cat = ship.select_dtypes(exclude = [\"float\",\"int\"]) \n",
    "\n",
    "df_num = ship[ship_num.columns]\n",
    "df_cat = ship[ship_cat.columns]\n"
   ]
  },
  {
   "cell_type": "markdown",
   "metadata": {},
   "source": [
    "### Examining the dependent feature(Crew) and its Correlation to other features"
   ]
  },
  {
   "cell_type": "code",
   "execution_count": 102,
   "metadata": {},
   "outputs": [
    {
     "data": {
      "text/plain": [
       "<matplotlib.axes._subplots.AxesSubplot at 0x1eb37a42f28>"
      ]
     },
     "execution_count": 102,
     "metadata": {},
     "output_type": "execute_result"
    },
    {
     "data": {
      "image/png": "[encoded data removed]",
      "text/plain": [
       "<Figure size 1080x720 with 1 Axes>"
      ]
     },
     "metadata": {
      "needs_background": "light"
     },
     "output_type": "display_data"
    }
   ],
   "source": [
    "#Bar chart showing the distribution of the crew size\n",
    "plt.figure(figsize=(15,10))\n",
    "\n",
    "sns.distplot(ship['crew'])"
   ]
  },
  {
   "cell_type": "markdown",
   "metadata": {},
   "source": [
    "#### Crew\n",
    "The average ship has a crew member size of approx 7, with a range of 1-21. I can infer that majority of the ships can have a crew of above 9.Further analysis would be carried out on the dependent feature. \n"
   ]
  },
  {
   "cell_type": "code",
   "execution_count": 103,
   "metadata": {},
   "outputs": [
    {
     "data": {
      "text/html": [
       "<style  type=\"text/css\" >\n",
       "    #T_ff137dd4_3807_11eb_bfe4_8086f294ee3arow0_col0 {\n",
       "            background-color:  #fcffa4;\n",
       "            color:  #000000;\n",
       "        }    #T_ff137dd4_3807_11eb_bfe4_8086f294ee3arow0_col1 {\n",
       "            background-color:  #000004;\n",
       "            color:  #f1f1f1;\n",
       "        }    #T_ff137dd4_3807_11eb_bfe4_8086f294ee3arow0_col2 {\n",
       "            background-color:  #000004;\n",
       "            color:  #f1f1f1;\n",
       "        }    #T_ff137dd4_3807_11eb_bfe4_8086f294ee3arow0_col3 {\n",
       "            background-color:  #000004;\n",
       "            color:  #f1f1f1;\n",
       "        }    #T_ff137dd4_3807_11eb_bfe4_8086f294ee3arow0_col4 {\n",
       "            background-color:  #000004;\n",
       "            color:  #f1f1f1;\n",
       "        }    #T_ff137dd4_3807_11eb_bfe4_8086f294ee3arow0_col5 {\n",
       "            background-color:  #010108;\n",
       "            color:  #f1f1f1;\n",
       "        }    #T_ff137dd4_3807_11eb_bfe4_8086f294ee3arow0_col6 {\n",
       "            background-color:  #000004;\n",
       "            color:  #f1f1f1;\n",
       "        }    #T_ff137dd4_3807_11eb_bfe4_8086f294ee3arow1_col0 {\n",
       "            background-color:  #000004;\n",
       "            color:  #f1f1f1;\n",
       "        }    #T_ff137dd4_3807_11eb_bfe4_8086f294ee3arow1_col1 {\n",
       "            background-color:  #fcffa4;\n",
       "            color:  #000000;\n",
       "        }    #T_ff137dd4_3807_11eb_bfe4_8086f294ee3arow1_col2 {\n",
       "            background-color:  #f2f482;\n",
       "            color:  #000000;\n",
       "        }    #T_ff137dd4_3807_11eb_bfe4_8086f294ee3arow1_col3 {\n",
       "            background-color:  #f1ef75;\n",
       "            color:  #000000;\n",
       "        }    #T_ff137dd4_3807_11eb_bfe4_8086f294ee3arow1_col4 {\n",
       "            background-color:  #f3f586;\n",
       "            color:  #000000;\n",
       "        }    #T_ff137dd4_3807_11eb_bfe4_8086f294ee3arow1_col5 {\n",
       "            background-color:  #400a67;\n",
       "            color:  #f1f1f1;\n",
       "        }    #T_ff137dd4_3807_11eb_bfe4_8086f294ee3arow1_col6 {\n",
       "            background-color:  #f1ef75;\n",
       "            color:  #000000;\n",
       "        }    #T_ff137dd4_3807_11eb_bfe4_8086f294ee3arow2_col0 {\n",
       "            background-color:  #09061f;\n",
       "            color:  #f1f1f1;\n",
       "        }    #T_ff137dd4_3807_11eb_bfe4_8086f294ee3arow2_col1 {\n",
       "            background-color:  #f3f586;\n",
       "            color:  #000000;\n",
       "        }    #T_ff137dd4_3807_11eb_bfe4_8086f294ee3arow2_col2 {\n",
       "            background-color:  #fcffa4;\n",
       "            color:  #000000;\n",
       "        }    #T_ff137dd4_3807_11eb_bfe4_8086f294ee3arow2_col3 {\n",
       "            background-color:  #f3e35a;\n",
       "            color:  #000000;\n",
       "        }    #T_ff137dd4_3807_11eb_bfe4_8086f294ee3arow2_col4 {\n",
       "            background-color:  #f6fa96;\n",
       "            color:  #000000;\n",
       "        }    #T_ff137dd4_3807_11eb_bfe4_8086f294ee3arow2_col5 {\n",
       "            background-color:  #000004;\n",
       "            color:  #f1f1f1;\n",
       "        }    #T_ff137dd4_3807_11eb_bfe4_8086f294ee3arow2_col6 {\n",
       "            background-color:  #f1ec6d;\n",
       "            color:  #000000;\n",
       "        }    #T_ff137dd4_3807_11eb_bfe4_8086f294ee3arow3_col0 {\n",
       "            background-color:  #060419;\n",
       "            color:  #f1f1f1;\n",
       "        }    #T_ff137dd4_3807_11eb_bfe4_8086f294ee3arow3_col1 {\n",
       "            background-color:  #f1ef75;\n",
       "            color:  #000000;\n",
       "        }    #T_ff137dd4_3807_11eb_bfe4_8086f294ee3arow3_col2 {\n",
       "            background-color:  #f3e35a;\n",
       "            color:  #000000;\n",
       "        }    #T_ff137dd4_3807_11eb_bfe4_8086f294ee3arow3_col3 {\n",
       "            background-color:  #fcffa4;\n",
       "            color:  #000000;\n",
       "        }    #T_ff137dd4_3807_11eb_bfe4_8086f294ee3arow3_col4 {\n",
       "            background-color:  #f3e55d;\n",
       "            color:  #000000;\n",
       "        }    #T_ff137dd4_3807_11eb_bfe4_8086f294ee3arow3_col5 {\n",
       "            background-color:  #2f0a5b;\n",
       "            color:  #f1f1f1;\n",
       "        }    #T_ff137dd4_3807_11eb_bfe4_8086f294ee3arow3_col6 {\n",
       "            background-color:  #f2e661;\n",
       "            color:  #000000;\n",
       "        }    #T_ff137dd4_3807_11eb_bfe4_8086f294ee3arow4_col0 {\n",
       "            background-color:  #0a0722;\n",
       "            color:  #f1f1f1;\n",
       "        }    #T_ff137dd4_3807_11eb_bfe4_8086f294ee3arow4_col1 {\n",
       "            background-color:  #f3f586;\n",
       "            color:  #000000;\n",
       "        }    #T_ff137dd4_3807_11eb_bfe4_8086f294ee3arow4_col2 {\n",
       "            background-color:  #f8fb9a;\n",
       "            color:  #000000;\n",
       "        }    #T_ff137dd4_3807_11eb_bfe4_8086f294ee3arow4_col3 {\n",
       "            background-color:  #f3e55d;\n",
       "            color:  #000000;\n",
       "        }    #T_ff137dd4_3807_11eb_bfe4_8086f294ee3arow4_col4 {\n",
       "            background-color:  #fcffa4;\n",
       "            color:  #000000;\n",
       "        }    #T_ff137dd4_3807_11eb_bfe4_8086f294ee3arow4_col5 {\n",
       "            background-color:  #040312;\n",
       "            color:  #f1f1f1;\n",
       "        }    #T_ff137dd4_3807_11eb_bfe4_8086f294ee3arow4_col6 {\n",
       "            background-color:  #f3f586;\n",
       "            color:  #000000;\n",
       "        }    #T_ff137dd4_3807_11eb_bfe4_8086f294ee3arow5_col0 {\n",
       "            background-color:  #440a68;\n",
       "            color:  #f1f1f1;\n",
       "        }    #T_ff137dd4_3807_11eb_bfe4_8086f294ee3arow5_col1 {\n",
       "            background-color:  #801f6c;\n",
       "            color:  #f1f1f1;\n",
       "        }    #T_ff137dd4_3807_11eb_bfe4_8086f294ee3arow5_col2 {\n",
       "            background-color:  #290b55;\n",
       "            color:  #f1f1f1;\n",
       "        }    #T_ff137dd4_3807_11eb_bfe4_8086f294ee3arow5_col3 {\n",
       "            background-color:  #65156e;\n",
       "            color:  #f1f1f1;\n",
       "        }    #T_ff137dd4_3807_11eb_bfe4_8086f294ee3arow5_col4 {\n",
       "            background-color:  #340a5f;\n",
       "            color:  #f1f1f1;\n",
       "        }    #T_ff137dd4_3807_11eb_bfe4_8086f294ee3arow5_col5 {\n",
       "            background-color:  #fcffa4;\n",
       "            color:  #000000;\n",
       "        }    #T_ff137dd4_3807_11eb_bfe4_8086f294ee3arow5_col6 {\n",
       "            background-color:  #540f6d;\n",
       "            color:  #f1f1f1;\n",
       "        }    #T_ff137dd4_3807_11eb_bfe4_8086f294ee3arow6_col0 {\n",
       "            background-color:  #07051b;\n",
       "            color:  #f1f1f1;\n",
       "        }    #T_ff137dd4_3807_11eb_bfe4_8086f294ee3arow6_col1 {\n",
       "            background-color:  #f1f179;\n",
       "            color:  #000000;\n",
       "        }    #T_ff137dd4_3807_11eb_bfe4_8086f294ee3arow6_col2 {\n",
       "            background-color:  #f1ec6d;\n",
       "            color:  #000000;\n",
       "        }    #T_ff137dd4_3807_11eb_bfe4_8086f294ee3arow6_col3 {\n",
       "            background-color:  #f2e661;\n",
       "            color:  #000000;\n",
       "        }    #T_ff137dd4_3807_11eb_bfe4_8086f294ee3arow6_col4 {\n",
       "            background-color:  #f3f586;\n",
       "            color:  #000000;\n",
       "        }    #T_ff137dd4_3807_11eb_bfe4_8086f294ee3arow6_col5 {\n",
       "            background-color:  #190c3e;\n",
       "            color:  #f1f1f1;\n",
       "        }    #T_ff137dd4_3807_11eb_bfe4_8086f294ee3arow6_col6 {\n",
       "            background-color:  #fcffa4;\n",
       "            color:  #000000;\n",
       "        }</style><table id=\"T_ff137dd4_3807_11eb_bfe4_8086f294ee3a\" ><thead>    <tr>        <th class=\"blank level0\" ></th>        <th class=\"col_heading level0 col0\" >Age</th>        <th class=\"col_heading level0 col1\" >Tonnage</th>        <th class=\"col_heading level0 col2\" >passengers</th>        <th class=\"col_heading level0 col3\" >length</th>        <th class=\"col_heading level0 col4\" >cabins</th>        <th class=\"col_heading level0 col5\" >passenger_density</th>        <th class=\"col_heading level0 col6\" >crew</th>    </tr></thead><tbody>\n",
       "                <tr>\n",
       "                        <th id=\"T_ff137dd4_3807_11eb_bfe4_8086f294ee3alevel0_row0\" class=\"row_heading level0 row0\" >Age</th>\n",
       "                        <td id=\"T_ff137dd4_3807_11eb_bfe4_8086f294ee3arow0_col0\" class=\"data row0 col0\" >1</td>\n",
       "                        <td id=\"T_ff137dd4_3807_11eb_bfe4_8086f294ee3arow0_col1\" class=\"data row0 col1\" >-0.606646</td>\n",
       "                        <td id=\"T_ff137dd4_3807_11eb_bfe4_8086f294ee3arow0_col2\" class=\"data row0 col2\" >-0.515542</td>\n",
       "                        <td id=\"T_ff137dd4_3807_11eb_bfe4_8086f294ee3arow0_col3\" class=\"data row0 col3\" >-0.532286</td>\n",
       "                        <td id=\"T_ff137dd4_3807_11eb_bfe4_8086f294ee3arow0_col4\" class=\"data row0 col4\" >-0.510019</td>\n",
       "                        <td id=\"T_ff137dd4_3807_11eb_bfe4_8086f294ee3arow0_col5\" class=\"data row0 col5\" >-0.27883</td>\n",
       "                        <td id=\"T_ff137dd4_3807_11eb_bfe4_8086f294ee3arow0_col6\" class=\"data row0 col6\" >-0.530657</td>\n",
       "            </tr>\n",
       "            <tr>\n",
       "                        <th id=\"T_ff137dd4_3807_11eb_bfe4_8086f294ee3alevel0_row1\" class=\"row_heading level0 row1\" >Tonnage</th>\n",
       "                        <td id=\"T_ff137dd4_3807_11eb_bfe4_8086f294ee3arow1_col0\" class=\"data row1 col0\" >-0.606646</td>\n",
       "                        <td id=\"T_ff137dd4_3807_11eb_bfe4_8086f294ee3arow1_col1\" class=\"data row1 col1\" >1</td>\n",
       "                        <td id=\"T_ff137dd4_3807_11eb_bfe4_8086f294ee3arow1_col2\" class=\"data row1 col2\" >0.945061</td>\n",
       "                        <td id=\"T_ff137dd4_3807_11eb_bfe4_8086f294ee3arow1_col3\" class=\"data row1 col3\" >0.922368</td>\n",
       "                        <td id=\"T_ff137dd4_3807_11eb_bfe4_8086f294ee3arow1_col4\" class=\"data row1 col4\" >0.948764</td>\n",
       "                        <td id=\"T_ff137dd4_3807_11eb_bfe4_8086f294ee3arow1_col5\" class=\"data row1 col5\" >-0.0408462</td>\n",
       "                        <td id=\"T_ff137dd4_3807_11eb_bfe4_8086f294ee3arow1_col6\" class=\"data row1 col6\" >0.927569</td>\n",
       "            </tr>\n",
       "            <tr>\n",
       "                        <th id=\"T_ff137dd4_3807_11eb_bfe4_8086f294ee3alevel0_row2\" class=\"row_heading level0 row2\" >passengers</th>\n",
       "                        <td id=\"T_ff137dd4_3807_11eb_bfe4_8086f294ee3arow2_col0\" class=\"data row2 col0\" >-0.515542</td>\n",
       "                        <td id=\"T_ff137dd4_3807_11eb_bfe4_8086f294ee3arow2_col1\" class=\"data row2 col1\" >0.945061</td>\n",
       "                        <td id=\"T_ff137dd4_3807_11eb_bfe4_8086f294ee3arow2_col2\" class=\"data row2 col2\" >1</td>\n",
       "                        <td id=\"T_ff137dd4_3807_11eb_bfe4_8086f294ee3arow2_col3\" class=\"data row2 col3\" >0.883535</td>\n",
       "                        <td id=\"T_ff137dd4_3807_11eb_bfe4_8086f294ee3arow2_col4\" class=\"data row2 col4\" >0.976341</td>\n",
       "                        <td id=\"T_ff137dd4_3807_11eb_bfe4_8086f294ee3arow2_col5\" class=\"data row2 col5\" >-0.294867</td>\n",
       "                        <td id=\"T_ff137dd4_3807_11eb_bfe4_8086f294ee3arow2_col6\" class=\"data row2 col6\" >0.915234</td>\n",
       "            </tr>\n",
       "            <tr>\n",
       "                        <th id=\"T_ff137dd4_3807_11eb_bfe4_8086f294ee3alevel0_row3\" class=\"row_heading level0 row3\" >length</th>\n",
       "                        <td id=\"T_ff137dd4_3807_11eb_bfe4_8086f294ee3arow3_col0\" class=\"data row3 col0\" >-0.532286</td>\n",
       "                        <td id=\"T_ff137dd4_3807_11eb_bfe4_8086f294ee3arow3_col1\" class=\"data row3 col1\" >0.922368</td>\n",
       "                        <td id=\"T_ff137dd4_3807_11eb_bfe4_8086f294ee3arow3_col2\" class=\"data row3 col2\" >0.883535</td>\n",
       "                        <td id=\"T_ff137dd4_3807_11eb_bfe4_8086f294ee3arow3_col3\" class=\"data row3 col3\" >1</td>\n",
       "                        <td id=\"T_ff137dd4_3807_11eb_bfe4_8086f294ee3arow3_col4\" class=\"data row3 col4\" >0.889798</td>\n",
       "                        <td id=\"T_ff137dd4_3807_11eb_bfe4_8086f294ee3arow3_col5\" class=\"data row3 col5\" >-0.0904885</td>\n",
       "                        <td id=\"T_ff137dd4_3807_11eb_bfe4_8086f294ee3arow3_col6\" class=\"data row3 col6\" >0.895857</td>\n",
       "            </tr>\n",
       "            <tr>\n",
       "                        <th id=\"T_ff137dd4_3807_11eb_bfe4_8086f294ee3alevel0_row4\" class=\"row_heading level0 row4\" >cabins</th>\n",
       "                        <td id=\"T_ff137dd4_3807_11eb_bfe4_8086f294ee3arow4_col0\" class=\"data row4 col0\" >-0.510019</td>\n",
       "                        <td id=\"T_ff137dd4_3807_11eb_bfe4_8086f294ee3arow4_col1\" class=\"data row4 col1\" >0.948764</td>\n",
       "                        <td id=\"T_ff137dd4_3807_11eb_bfe4_8086f294ee3arow4_col2\" class=\"data row4 col2\" >0.976341</td>\n",
       "                        <td id=\"T_ff137dd4_3807_11eb_bfe4_8086f294ee3arow4_col3\" class=\"data row4 col3\" >0.889798</td>\n",
       "                        <td id=\"T_ff137dd4_3807_11eb_bfe4_8086f294ee3arow4_col4\" class=\"data row4 col4\" >1</td>\n",
       "                        <td id=\"T_ff137dd4_3807_11eb_bfe4_8086f294ee3arow4_col5\" class=\"data row4 col5\" >-0.253181</td>\n",
       "                        <td id=\"T_ff137dd4_3807_11eb_bfe4_8086f294ee3arow4_col6\" class=\"data row4 col6\" >0.950823</td>\n",
       "            </tr>\n",
       "            <tr>\n",
       "                        <th id=\"T_ff137dd4_3807_11eb_bfe4_8086f294ee3alevel0_row5\" class=\"row_heading level0 row5\" >passenger_density</th>\n",
       "                        <td id=\"T_ff137dd4_3807_11eb_bfe4_8086f294ee3arow5_col0\" class=\"data row5 col0\" >-0.27883</td>\n",
       "                        <td id=\"T_ff137dd4_3807_11eb_bfe4_8086f294ee3arow5_col1\" class=\"data row5 col1\" >-0.0408462</td>\n",
       "                        <td id=\"T_ff137dd4_3807_11eb_bfe4_8086f294ee3arow5_col2\" class=\"data row5 col2\" >-0.294867</td>\n",
       "                        <td id=\"T_ff137dd4_3807_11eb_bfe4_8086f294ee3arow5_col3\" class=\"data row5 col3\" >-0.0904885</td>\n",
       "                        <td id=\"T_ff137dd4_3807_11eb_bfe4_8086f294ee3arow5_col4\" class=\"data row5 col4\" >-0.253181</td>\n",
       "                        <td id=\"T_ff137dd4_3807_11eb_bfe4_8086f294ee3arow5_col5\" class=\"data row5 col5\" >1</td>\n",
       "                        <td id=\"T_ff137dd4_3807_11eb_bfe4_8086f294ee3arow5_col6\" class=\"data row5 col6\" >-0.155509</td>\n",
       "            </tr>\n",
       "            <tr>\n",
       "                        <th id=\"T_ff137dd4_3807_11eb_bfe4_8086f294ee3alevel0_row6\" class=\"row_heading level0 row6\" >crew</th>\n",
       "                        <td id=\"T_ff137dd4_3807_11eb_bfe4_8086f294ee3arow6_col0\" class=\"data row6 col0\" >-0.530657</td>\n",
       "                        <td id=\"T_ff137dd4_3807_11eb_bfe4_8086f294ee3arow6_col1\" class=\"data row6 col1\" >0.927569</td>\n",
       "                        <td id=\"T_ff137dd4_3807_11eb_bfe4_8086f294ee3arow6_col2\" class=\"data row6 col2\" >0.915234</td>\n",
       "                        <td id=\"T_ff137dd4_3807_11eb_bfe4_8086f294ee3arow6_col3\" class=\"data row6 col3\" >0.895857</td>\n",
       "                        <td id=\"T_ff137dd4_3807_11eb_bfe4_8086f294ee3arow6_col4\" class=\"data row6 col4\" >0.950823</td>\n",
       "                        <td id=\"T_ff137dd4_3807_11eb_bfe4_8086f294ee3arow6_col5\" class=\"data row6 col5\" >-0.155509</td>\n",
       "                        <td id=\"T_ff137dd4_3807_11eb_bfe4_8086f294ee3arow6_col6\" class=\"data row6 col6\" >1</td>\n",
       "            </tr>\n",
       "    </tbody></table>"
      ],
      "text/plain": [
       "<pandas.io.formats.style.Styler at 0x1eb37aca828>"
      ]
     },
     "execution_count": 103,
     "metadata": {},
     "output_type": "execute_result"
    }
   ],
   "source": [
    "corr = ship.corr()\n",
    "corr.style.background_gradient(cmap=\"inferno\")"
   ]
  },
  {
   "cell_type": "markdown",
   "metadata": {},
   "source": [
    "A correlation matrix is used to find the correlation between features. It measures the strength of the relationship between variables and ranges from -1 to 1.\n",
    "\n",
    "+/-0.7 Strong relationship\n",
    "+/-0.3 indicates little or no relationship\n",
    "\n",
    "The correlation heatmap above affirms the correlation betweeen the dependent feature \"crew\" and the independent features. With all the independent features except passenger_density and Age having a correlation > 0.8, the 4 features would be considered for the multiple regression."
   ]
  },
  {
   "cell_type": "code",
   "execution_count": 104,
   "metadata": {},
   "outputs": [],
   "source": [
    "from sklearn.linear_model import LinearRegression\n",
    "from sklearn.metrics import mean_squared_error\n",
    "from sklearn.model_selection import train_test_split"
   ]
  },
  {
   "cell_type": "code",
   "execution_count": 105,
   "metadata": {},
   "outputs": [
    {
     "name": "stdout",
     "output_type": "stream",
     "text": [
      "R^2: 0.9364397763657831\n",
      "Root Mean Squared Error: 0.8961289919544145\n"
     ]
    }
   ],
   "source": [
    "X = ship[[\"cabins\",\"length\", 'passengers', 'Tonnage']].values\n",
    "y = ship[\"crew\"].values\n",
    "\n",
    "reg = LinearRegression()\n",
    "\n",
    "# Create training and test sets\n",
    "X_train, X_test, y_train, y_test = train_test_split(X, y, test_size = 0.4, random_state=42)\n",
    "\n",
    "reg.fit(X_train, y_train)\n",
    "\n",
    "y_pred = reg.predict(X_test)\n",
    "\n",
    "# Compute and print R^2 and RMSE\n",
    "print(\"R^2: {}\".format(reg.score(X_test, y_test)))\n",
    "rmse = np.sqrt(mean_squared_error(y_test, y_pred))\n",
    "print(\"Root Mean Squared Error: {}\".format(rmse))\n",
    " "
   ]
  },
  {
   "cell_type": "markdown",
   "metadata": {},
   "source": [
    "With a R squared value of 0.93 it means that the features considered predicts the dependent variable up to a 93% accuracy. "
   ]
  },
  {
   "cell_type": "code",
   "execution_count": 106,
   "metadata": {},
   "outputs": [
    {
     "name": "stdout",
     "output_type": "stream",
     "text": [
      "Pearson Coefficients: [ 0.89973694  0.31197271 -0.19184168  0.02042618]\n"
     ]
    }
   ],
   "source": [
    "print('Pearson Coefficients:', reg.coef_)"
   ]
  },
  {
   "cell_type": "markdown",
   "metadata": {},
   "source": [
    "### Overfitting\n",
    "\n",
    "In Overfitting even when the training data seems to have a high accuracy in prediction, the introduction of a new data set(test data) reveals the reduction of the accuracy and gives high residual values from the best fit line.\n",
    "\n",
    "An overfitted model would have a Low Bias and High Variance Trade-off.\n",
    "\n",
    "### Avoiding Overfiftting \n",
    "\n",
    "* Using large datasets(train with a training set): if we were to predict the weight of children based on their height in a parrticular school we could have extremely tall children with basket ball player parents (outliers) or children who reach puberty at a later time (randomness) who can affect the accuracy of the model if this model was to be used to predict the weight of children in a different school. If a larger data set is used, it would be possible to reduce the noise from the outliers and generate a better model. \n",
    " \n",
    "* Cross-validation: Cross-validation is a powerful preventative measure against overfitting. Use your initial training data to generate multiple mini train-test splits. Use these splits to tune your model.In standard k-fold cross-validation, we partition the data into k subsets, called folds. Then, we iteratively train the algorithm on k-1 folds while using the remaining fold as the test set (called the “holdout fold”).\n",
    " \n",
    "* Regularization: Regularization method adds a penalty term for complex models to avoid the risk of overfitting. It is a form of regression which shrinks coefficients of our features towards zero. However, applying regularization to an overly simple model leads to underfitting, a situation where a machine ignores real effects, i.e. signal\n",
    " \n",
    "\n"
   ]
  },
  {
   "cell_type": "markdown",
   "metadata": {},
   "source": [
    "### DIfference between Bias and Variance \n",
    "\n",
    "* Bias are the simplifying assumptions made by a model to make the target function easier to learn.Generally, linear algorithms have a high bias making them fast to learn and easier to understand but generally less flexible. In turn, they have lower predictive performance on complex problems that fail to meet the simplifying assumptions of the algorithms bias\n",
    "  Bias is the difference between your model's expected predictions and the true values. It is the error of the training data\n",
    "\n",
    "* Variance is the amount that the estimate of the target function will change if different training data was used.The target function is estimated from the training data by a machine learning algorithm, so we should expect the algorithm to have some variance. Ideally, it should not change too much from one training dataset to the next, meaning that the algorithm is good at picking out the hidden underlying mapping between the inputs and the output variables.\n",
    "  Variance refers to your algorithm's sensitivity to specific sets of training data. It is the error of the test data "
   ]
  },
  {
   "cell_type": "markdown",
   "metadata": {},
   "source": [
    "### When to use Classification over Regression\n",
    "\n",
    "Classification models are used for prediction of dicrete values which denote an encoded categorical value.A typical classification problem would be determining if a customer will buy a product or not.\n",
    "\n",
    "Regression models are used for predcition of continous values. A typical regression problem would be determinng the price of a product based on the independent features that are correlated to the dependent feature(price)."
   ]
  },
  {
   "cell_type": "code",
   "execution_count": 107,
   "metadata": {},
   "outputs": [],
   "source": [
    "#Just for my Documentation"
   ]
  },
  {
   "cell_type": "markdown",
   "metadata": {},
   "source": [
    "## Data Leakage \n",
    "\n",
    "This is when data contained in the test data is also found in the training data and vice cersa. This would give a high correlation in the first place so the mode/prediction would not be a truue representation of the real world.\n",
    "\n",
    "**Causes of Data Leakage**\n",
    "* During Feature engineering, when handling missing data. \n",
    "* Time series Data. \n",
    "* Standardization/Normalization: The scaling would cause the test and train data to mix. "
   ]
  },
  {
   "cell_type": "code",
   "execution_count": null,
   "metadata": {},
   "outputs": [],
   "source": []
  }
 ],
 "metadata": {
  "kernelspec": {
   "display_name": "Python 3",
   "language": "python",
   "name": "python3"
  },
  "language_info": {
   "codemirror_mode": {
    "name": "ipython",
    "version": 3
   },
   "file_extension": ".py",
   "mimetype": "text/x-python",
   "name": "python",
   "nbconvert_exporter": "python",
   "pygments_lexer": "ipython3",
   "version": "3.7.3"
  }
 },
 "nbformat": 4,
 "nbformat_minor": 2
}
