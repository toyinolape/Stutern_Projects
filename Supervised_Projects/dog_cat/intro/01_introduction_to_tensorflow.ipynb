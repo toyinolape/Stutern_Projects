{
 "cells": [
  {
   "cell_type": "code",
   "execution_count": 1,
   "metadata": {},
   "outputs": [],
   "source": [
    "import tensorflow as tf\n",
    "import numpy as np \n",
    "from tensorflow import keras"
   ]
  },
  {
   "cell_type": "code",
   "execution_count": 2,
   "metadata": {},
   "outputs": [],
   "source": [
    "import matplotlib.pyplot as plt \n",
    "import datetime "
   ]
  },
  {
   "cell_type": "code",
   "execution_count": 3,
   "metadata": {},
   "outputs": [
    {
     "name": "stdout",
     "output_type": "stream",
     "text": [
      "2.0.0\n"
     ]
    }
   ],
   "source": [
    "print(tf.__version__)"
   ]
  },
  {
   "cell_type": "code",
   "execution_count": 4,
   "metadata": {},
   "outputs": [
    {
     "name": "stdout",
     "output_type": "stream",
     "text": [
      "2.2.4-tf\n"
     ]
    }
   ],
   "source": [
    "print(keras.__version__)"
   ]
  },
  {
   "cell_type": "markdown",
   "metadata": {},
   "source": [
    "##  Define and Compile the Neural Network "
   ]
  },
  {
   "cell_type": "markdown",
   "metadata": {},
   "source": [
    "Create a model of 1 layer, and that layer has 1 neuron, and the input shape to it is just 1 value. "
   ]
  },
  {
   "cell_type": "code",
   "execution_count": 5,
   "metadata": {},
   "outputs": [],
   "source": [
    "model = tf.keras.Sequential([keras.layers.Dense(units=1, input_shape=[1])])"
   ]
  },
  {
   "cell_type": "code",
   "execution_count": 7,
   "metadata": {
    "scrolled": true
   },
   "outputs": [
    {
     "name": "stdout",
     "output_type": "stream",
     "text": [
      "Model: \"sequential\"\n",
      "_________________________________________________________________\n",
      "Layer (type)                 Output Shape              Param #   \n",
      "=================================================================\n",
      "dense (Dense)                (None, 1)                 2         \n",
      "=================================================================\n",
      "Total params: 2\n",
      "Trainable params: 2\n",
      "Non-trainable params: 0\n",
      "_________________________________________________________________\n"
     ]
    }
   ],
   "source": [
    "model.summary()"
   ]
  },
  {
   "cell_type": "markdown",
   "metadata": {},
   "source": [
    "## Access weight and bias values"
   ]
  },
  {
   "cell_type": "code",
   "execution_count": 9,
   "metadata": {},
   "outputs": [
    {
     "data": {
      "text/plain": [
       "[<tf.Variable 'dense/kernel:0' shape=(1, 1) dtype=float32, numpy=array([[-1.1887379]], dtype=float32)>,\n",
       " <tf.Variable 'dense/bias:0' shape=(1,) dtype=float32, numpy=array([0.], dtype=float32)>]"
      ]
     },
     "execution_count": 9,
     "metadata": {},
     "output_type": "execute_result"
    }
   ],
   "source": [
    "model.trainable_variables"
   ]
  },
  {
   "cell_type": "code",
   "execution_count": 9,
   "metadata": {},
   "outputs": [
    {
     "data": {
      "text/plain": [
       "[<tensorflow.python.keras.layers.core.Dense at 0x19a08eb10>]"
      ]
     },
     "execution_count": 9,
     "metadata": {},
     "output_type": "execute_result"
    }
   ],
   "source": [
    "model.layers"
   ]
  },
  {
   "cell_type": "code",
   "execution_count": 13,
   "metadata": {},
   "outputs": [
    {
     "data": {
      "text/plain": [
       "[array([[-1.1887379]], dtype=float32), array([0.], dtype=float32)]"
      ]
     },
     "execution_count": 13,
     "metadata": {},
     "output_type": "execute_result"
    }
   ],
   "source": [
    "model.layers[0].get_weights()"
   ]
  },
  {
   "cell_type": "code",
   "execution_count": 14,
   "metadata": {},
   "outputs": [],
   "source": [
    "w = model.layers[0].get_weights()[0][0][0]"
   ]
  },
  {
   "cell_type": "code",
   "execution_count": 15,
   "metadata": {},
   "outputs": [
    {
     "data": {
      "text/plain": [
       "-1.1887379"
      ]
     },
     "execution_count": 15,
     "metadata": {},
     "output_type": "execute_result"
    }
   ],
   "source": [
    "w"
   ]
  },
  {
   "cell_type": "code",
   "execution_count": 20,
   "metadata": {},
   "outputs": [
    {
     "data": {
      "text/plain": [
       "array([0.2578925], dtype=float32)"
      ]
     },
     "execution_count": 20,
     "metadata": {},
     "output_type": "execute_result"
    }
   ],
   "source": [
    "w"
   ]
  },
  {
   "cell_type": "code",
   "execution_count": 18,
   "metadata": {},
   "outputs": [
    {
     "data": {
      "text/plain": [
       "array([[0.2578925]], dtype=float32)"
      ]
     },
     "execution_count": 18,
     "metadata": {},
     "output_type": "execute_result"
    }
   ],
   "source": [
    "w"
   ]
  },
  {
   "cell_type": "code",
   "execution_count": 16,
   "metadata": {},
   "outputs": [],
   "source": [
    "b = model.layers[0].get_weights()[1][0]"
   ]
  },
  {
   "cell_type": "code",
   "execution_count": 17,
   "metadata": {},
   "outputs": [
    {
     "data": {
      "text/plain": [
       "0.0"
      ]
     },
     "execution_count": 17,
     "metadata": {},
     "output_type": "execute_result"
    }
   ],
   "source": [
    "b"
   ]
  },
  {
   "cell_type": "code",
   "execution_count": 19,
   "metadata": {},
   "outputs": [],
   "source": [
    "model.compile(optimizer='sgd', loss='mse')"
   ]
  },
  {
   "cell_type": "code",
   "execution_count": 20,
   "metadata": {},
   "outputs": [
    {
     "name": "stdout",
     "output_type": "stream",
     "text": [
      "Model: \"sequential\"\n",
      "_________________________________________________________________\n",
      "Layer (type)                 Output Shape              Param #   \n",
      "=================================================================\n",
      "dense (Dense)                (None, 1)                 2         \n",
      "=================================================================\n",
      "Total params: 2\n",
      "Trainable params: 2\n",
      "Non-trainable params: 0\n",
      "_________________________________________________________________\n"
     ]
    }
   ],
   "source": [
    "model.summary()"
   ]
  },
  {
   "cell_type": "markdown",
   "metadata": {},
   "source": [
    "## Providing the Data"
   ]
  },
  {
   "cell_type": "code",
   "execution_count": 21,
   "metadata": {},
   "outputs": [],
   "source": [
    "xs = np.array([-1.0,  0.0, 1.0, 2.0, 3.0, 4.0], dtype=float)\n",
    "ys = np.array([-3.0, -1.0, 1.0, 3.0, 5.0, 7.0], dtype=float)"
   ]
  },
  {
   "cell_type": "code",
   "execution_count": 22,
   "metadata": {},
   "outputs": [
    {
     "data": {
      "text/plain": [
       "[<matplotlib.lines.Line2D at 0x7f2a10773750>]"
      ]
     },
     "execution_count": 22,
     "metadata": {},
     "output_type": "execute_result"
    },
    {
     "data": {
      "image/png": "[encoded data removed]",
      "text/plain": [
       "<Figure size 432x288 with 1 Axes>"
      ]
     },
     "metadata": {
      "needs_background": "light"
     },
     "output_type": "display_data"
    }
   ],
   "source": [
    "# Plotting data\n",
    "plt.plot(xs,ys, 'bo')"
   ]
  },
  {
   "cell_type": "code",
   "execution_count": 23,
   "metadata": {},
   "outputs": [],
   "source": [
    "xline = np.linspace(-1,5,10)"
   ]
  },
  {
   "cell_type": "code",
   "execution_count": 24,
   "metadata": {},
   "outputs": [
    {
     "data": {
      "text/plain": [
       "array([-1.        , -0.33333333,  0.33333333,  1.        ,  1.66666667,\n",
       "        2.33333333,  3.        ,  3.66666667,  4.33333333,  5.        ])"
      ]
     },
     "execution_count": 24,
     "metadata": {},
     "output_type": "execute_result"
    }
   ],
   "source": [
    "xline"
   ]
  },
  {
   "cell_type": "markdown",
   "metadata": {},
   "source": [
    "## Training the Neural Network "
   ]
  },
  {
   "cell_type": "code",
   "execution_count": 25,
   "metadata": {},
   "outputs": [
    {
     "name": "stdout",
     "output_type": "stream",
     "text": [
      "Train on 6 samples\n",
      "Epoch 1/200\n",
      "6/6 [==============================] - 1s 103ms/sample - loss: 43.9687\n",
      "Epoch 2/200\n",
      "6/6 [==============================] - 0s 291us/sample - loss: 34.9632\n",
      "Epoch 3/200\n",
      "6/6 [==============================] - 0s 422us/sample - loss: 27.8705\n",
      "Epoch 4/200\n",
      "6/6 [==============================] - 0s 521us/sample - loss: 22.2828\n",
      "Epoch 5/200\n",
      "6/6 [==============================] - 0s 368us/sample - loss: 17.8794\n",
      "Epoch 6/200\n",
      "6/6 [==============================] - 0s 343us/sample - loss: 14.4079\n",
      "Epoch 7/200\n",
      "6/6 [==============================] - 0s 293us/sample - loss: 11.6696\n",
      "Epoch 8/200\n",
      "6/6 [==============================] - 0s 496us/sample - loss: 9.5084\n",
      "Epoch 9/200\n",
      "6/6 [==============================] - 0s 344us/sample - loss: 7.8014\n",
      "Epoch 10/200\n",
      "6/6 [==============================] - 0s 328us/sample - loss: 6.4518\n",
      "Epoch 11/200\n",
      "6/6 [==============================] - 0s 538us/sample - loss: 5.3835\n",
      "Epoch 12/200\n",
      "6/6 [==============================] - 0s 391us/sample - loss: 4.5368\n",
      "Epoch 13/200\n",
      "6/6 [==============================] - 0s 500us/sample - loss: 3.8644\n",
      "Epoch 14/200\n",
      "6/6 [==============================] - 0s 368us/sample - loss: 3.3293\n",
      "Epoch 15/200\n",
      "6/6 [==============================] - 0s 790us/sample - loss: 2.9024\n",
      "Epoch 16/200\n",
      "6/6 [==============================] - 0s 459us/sample - loss: 2.5607\n",
      "Epoch 17/200\n",
      "6/6 [==============================] - 0s 628us/sample - loss: 2.2862\n",
      "Epoch 18/200\n",
      "6/6 [==============================] - 0s 789us/sample - loss: 2.0647\n",
      "Epoch 19/200\n",
      "6/6 [==============================] - 0s 313us/sample - loss: 1.8849\n",
      "Epoch 20/200\n",
      "6/6 [==============================] - 0s 271us/sample - loss: 1.7381\n",
      "Epoch 21/200\n",
      "6/6 [==============================] - 0s 570us/sample - loss: 1.6174\n",
      "Epoch 22/200\n",
      "6/6 [==============================] - 0s 503us/sample - loss: 1.5173\n",
      "Epoch 23/200\n",
      "6/6 [==============================] - 0s 316us/sample - loss: 1.4335\n",
      "Epoch 24/200\n",
      "6/6 [==============================] - 0s 334us/sample - loss: 1.3626\n",
      "Epoch 25/200\n",
      "6/6 [==============================] - 0s 284us/sample - loss: 1.3021\n",
      "Epoch 26/200\n",
      "6/6 [==============================] - 0s 263us/sample - loss: 1.2497\n",
      "Epoch 27/200\n",
      "6/6 [==============================] - 0s 401us/sample - loss: 1.2039\n",
      "Epoch 28/200\n",
      "6/6 [==============================] - 0s 347us/sample - loss: 1.1633\n",
      "Epoch 29/200\n",
      "6/6 [==============================] - 0s 354us/sample - loss: 1.1269\n",
      "Epoch 30/200\n",
      "6/6 [==============================] - 0s 334us/sample - loss: 1.0939\n",
      "Epoch 31/200\n",
      "6/6 [==============================] - 0s 337us/sample - loss: 1.0637\n",
      "Epoch 32/200\n",
      "6/6 [==============================] - 0s 382us/sample - loss: 1.0358\n",
      "Epoch 33/200\n",
      "6/6 [==============================] - 0s 327us/sample - loss: 1.0098\n",
      "Epoch 34/200\n",
      "6/6 [==============================] - 0s 424us/sample - loss: 0.9853\n",
      "Epoch 35/200\n",
      "6/6 [==============================] - 0s 445us/sample - loss: 0.9621\n",
      "Epoch 36/200\n",
      "6/6 [==============================] - 0s 309us/sample - loss: 0.9400\n",
      "Epoch 37/200\n",
      "6/6 [==============================] - 0s 362us/sample - loss: 0.9188\n",
      "Epoch 38/200\n",
      "6/6 [==============================] - 0s 340us/sample - loss: 0.8985\n",
      "Epoch 39/200\n",
      "6/6 [==============================] - 0s 294us/sample - loss: 0.8789\n",
      "Epoch 40/200\n",
      "6/6 [==============================] - 0s 309us/sample - loss: 0.8600\n",
      "Epoch 41/200\n",
      "6/6 [==============================] - 0s 406us/sample - loss: 0.8416\n",
      "Epoch 42/200\n",
      "6/6 [==============================] - 0s 516us/sample - loss: 0.8238\n",
      "Epoch 43/200\n",
      "6/6 [==============================] - 0s 280us/sample - loss: 0.8064\n",
      "Epoch 44/200\n",
      "6/6 [==============================] - 0s 346us/sample - loss: 0.7895\n",
      "Epoch 45/200\n",
      "6/6 [==============================] - 0s 645us/sample - loss: 0.7730\n",
      "Epoch 46/200\n",
      "6/6 [==============================] - 0s 351us/sample - loss: 0.7569\n",
      "Epoch 47/200\n",
      "6/6 [==============================] - 0s 930us/sample - loss: 0.7412\n",
      "Epoch 48/200\n",
      "6/6 [==============================] - 0s 668us/sample - loss: 0.7259\n",
      "Epoch 49/200\n",
      "6/6 [==============================] - 0s 444us/sample - loss: 0.7109\n",
      "Epoch 50/200\n",
      "6/6 [==============================] - 0s 266us/sample - loss: 0.6962\n",
      "Epoch 51/200\n",
      "6/6 [==============================] - 0s 285us/sample - loss: 0.6818\n",
      "Epoch 52/200\n",
      "6/6 [==============================] - 0s 290us/sample - loss: 0.6678\n",
      "Epoch 53/200\n",
      "6/6 [==============================] - 0s 541us/sample - loss: 0.6540\n",
      "Epoch 54/200\n",
      "6/6 [==============================] - 0s 297us/sample - loss: 0.6405\n",
      "Epoch 55/200\n",
      "6/6 [==============================] - 0s 299us/sample - loss: 0.6274\n",
      "Epoch 56/200\n",
      "6/6 [==============================] - 0s 345us/sample - loss: 0.6144\n",
      "Epoch 57/200\n",
      "6/6 [==============================] - 0s 354us/sample - loss: 0.6018\n",
      "Epoch 58/200\n",
      "6/6 [==============================] - 0s 351us/sample - loss: 0.5894\n",
      "Epoch 59/200\n",
      "6/6 [==============================] - 0s 412us/sample - loss: 0.5773\n",
      "Epoch 60/200\n",
      "6/6 [==============================] - 0s 305us/sample - loss: 0.5655\n",
      "Epoch 61/200\n",
      "6/6 [==============================] - 0s 304us/sample - loss: 0.5538\n",
      "Epoch 62/200\n",
      "6/6 [==============================] - 0s 813us/sample - loss: 0.5425\n",
      "Epoch 63/200\n",
      "6/6 [==============================] - 0s 491us/sample - loss: 0.5313\n",
      "Epoch 64/200\n",
      "6/6 [==============================] - 0s 441us/sample - loss: 0.5204\n",
      "Epoch 65/200\n",
      "6/6 [==============================] - 0s 626us/sample - loss: 0.5097\n",
      "Epoch 66/200\n",
      "6/6 [==============================] - 0s 343us/sample - loss: 0.4992\n",
      "Epoch 67/200\n",
      "6/6 [==============================] - 0s 400us/sample - loss: 0.4890\n",
      "Epoch 68/200\n",
      "6/6 [==============================] - 0s 433us/sample - loss: 0.4789\n",
      "Epoch 69/200\n",
      "6/6 [==============================] - 0s 850us/sample - loss: 0.4691\n",
      "Epoch 70/200\n",
      "6/6 [==============================] - 0s 352us/sample - loss: 0.4595\n",
      "Epoch 71/200\n",
      "6/6 [==============================] - 0s 392us/sample - loss: 0.4500\n",
      "Epoch 72/200\n",
      "6/6 [==============================] - 0s 338us/sample - loss: 0.4408\n",
      "Epoch 73/200\n",
      "6/6 [==============================] - 0s 267us/sample - loss: 0.4317\n",
      "Epoch 74/200\n",
      "6/6 [==============================] - 0s 749us/sample - loss: 0.4228\n",
      "Epoch 75/200\n",
      "6/6 [==============================] - 0s 453us/sample - loss: 0.4142\n",
      "Epoch 76/200\n",
      "6/6 [==============================] - 0s 834us/sample - loss: 0.4057\n",
      "Epoch 77/200\n",
      "6/6 [==============================] - 0s 376us/sample - loss: 0.3973\n",
      "Epoch 78/200\n",
      "6/6 [==============================] - 0s 444us/sample - loss: 0.3892\n",
      "Epoch 79/200\n",
      "6/6 [==============================] - 0s 387us/sample - loss: 0.3812\n",
      "Epoch 80/200\n",
      "6/6 [==============================] - 0s 407us/sample - loss: 0.3733\n",
      "Epoch 81/200\n",
      "6/6 [==============================] - 0s 314us/sample - loss: 0.3657\n",
      "Epoch 82/200\n",
      "6/6 [==============================] - 0s 306us/sample - loss: 0.3582\n",
      "Epoch 83/200\n",
      "6/6 [==============================] - 0s 350us/sample - loss: 0.3508\n",
      "Epoch 84/200\n",
      "6/6 [==============================] - 0s 302us/sample - loss: 0.3436\n",
      "Epoch 85/200\n",
      "6/6 [==============================] - 0s 510us/sample - loss: 0.3365\n",
      "Epoch 86/200\n",
      "6/6 [==============================] - 0s 543us/sample - loss: 0.3296\n",
      "Epoch 87/200\n",
      "6/6 [==============================] - 0s 293us/sample - loss: 0.3229\n",
      "Epoch 88/200\n",
      "6/6 [==============================] - 0s 369us/sample - loss: 0.3162\n",
      "Epoch 89/200\n",
      "6/6 [==============================] - 0s 873us/sample - loss: 0.3097\n",
      "Epoch 90/200\n",
      "6/6 [==============================] - 0s 309us/sample - loss: 0.3034\n",
      "Epoch 91/200\n",
      "6/6 [==============================] - 0s 381us/sample - loss: 0.2971\n",
      "Epoch 92/200\n",
      "6/6 [==============================] - 0s 668us/sample - loss: 0.2910\n",
      "Epoch 93/200\n",
      "6/6 [==============================] - 0s 842us/sample - loss: 0.2851\n",
      "Epoch 94/200\n",
      "6/6 [==============================] - 0s 288us/sample - loss: 0.2792\n",
      "Epoch 95/200\n",
      "6/6 [==============================] - 0s 787us/sample - loss: 0.2735\n",
      "Epoch 96/200\n",
      "6/6 [==============================] - 0s 331us/sample - loss: 0.2678\n",
      "Epoch 97/200\n",
      "6/6 [==============================] - 0s 410us/sample - loss: 0.2623\n",
      "Epoch 98/200\n",
      "6/6 [==============================] - 0s 351us/sample - loss: 0.2570\n",
      "Epoch 99/200\n",
      "6/6 [==============================] - 0s 333us/sample - loss: 0.2517\n"
     ]
    },
    {
     "name": "stdout",
     "output_type": "stream",
     "text": [
      "Epoch 100/200\n",
      "6/6 [==============================] - 0s 449us/sample - loss: 0.2465\n",
      "Epoch 101/200\n",
      "6/6 [==============================] - 0s 544us/sample - loss: 0.2414\n",
      "Epoch 102/200\n",
      "6/6 [==============================] - 0s 305us/sample - loss: 0.2365\n",
      "Epoch 103/200\n",
      "6/6 [==============================] - 0s 281us/sample - loss: 0.2316\n",
      "Epoch 104/200\n",
      "6/6 [==============================] - 0s 524us/sample - loss: 0.2269\n",
      "Epoch 105/200\n",
      "6/6 [==============================] - 0s 387us/sample - loss: 0.2222\n",
      "Epoch 106/200\n",
      "6/6 [==============================] - 0s 301us/sample - loss: 0.2176\n",
      "Epoch 107/200\n",
      "6/6 [==============================] - 0s 367us/sample - loss: 0.2132\n",
      "Epoch 108/200\n",
      "6/6 [==============================] - 0s 387us/sample - loss: 0.2088\n",
      "Epoch 109/200\n",
      "6/6 [==============================] - 0s 352us/sample - loss: 0.2045\n",
      "Epoch 110/200\n",
      "6/6 [==============================] - 0s 331us/sample - loss: 0.2003\n",
      "Epoch 111/200\n",
      "6/6 [==============================] - 0s 408us/sample - loss: 0.1962\n",
      "Epoch 112/200\n",
      "6/6 [==============================] - 0s 697us/sample - loss: 0.1922\n",
      "Epoch 113/200\n",
      "6/6 [==============================] - 0s 411us/sample - loss: 0.1882\n",
      "Epoch 114/200\n",
      "6/6 [==============================] - 0s 406us/sample - loss: 0.1843\n",
      "Epoch 115/200\n",
      "6/6 [==============================] - 0s 371us/sample - loss: 0.1806\n",
      "Epoch 116/200\n",
      "6/6 [==============================] - 0s 713us/sample - loss: 0.1769\n",
      "Epoch 117/200\n",
      "6/6 [==============================] - 0s 500us/sample - loss: 0.1732\n",
      "Epoch 118/200\n",
      "6/6 [==============================] - 0s 490us/sample - loss: 0.1697\n",
      "Epoch 119/200\n",
      "6/6 [==============================] - 0s 347us/sample - loss: 0.1662\n",
      "Epoch 120/200\n",
      "6/6 [==============================] - 0s 371us/sample - loss: 0.1628\n",
      "Epoch 121/200\n",
      "6/6 [==============================] - 0s 481us/sample - loss: 0.1594\n",
      "Epoch 122/200\n",
      "6/6 [==============================] - 0s 358us/sample - loss: 0.1561\n",
      "Epoch 123/200\n",
      "6/6 [==============================] - 0s 341us/sample - loss: 0.1529\n",
      "Epoch 124/200\n",
      "6/6 [==============================] - 0s 539us/sample - loss: 0.1498\n",
      "Epoch 125/200\n",
      "6/6 [==============================] - 0s 337us/sample - loss: 0.1467\n",
      "Epoch 126/200\n",
      "6/6 [==============================] - 0s 319us/sample - loss: 0.1437\n",
      "Epoch 127/200\n",
      "6/6 [==============================] - 0s 291us/sample - loss: 0.1408\n",
      "Epoch 128/200\n",
      "6/6 [==============================] - 0s 489us/sample - loss: 0.1379\n",
      "Epoch 129/200\n",
      "6/6 [==============================] - 0s 349us/sample - loss: 0.1350\n",
      "Epoch 130/200\n",
      "6/6 [==============================] - 0s 432us/sample - loss: 0.1323\n",
      "Epoch 131/200\n",
      "6/6 [==============================] - 0s 1ms/sample - loss: 0.1295\n",
      "Epoch 132/200\n",
      "6/6 [==============================] - 0s 277us/sample - loss: 0.1269\n",
      "Epoch 133/200\n",
      "6/6 [==============================] - 0s 347us/sample - loss: 0.1243\n",
      "Epoch 134/200\n",
      "6/6 [==============================] - 0s 274us/sample - loss: 0.1217\n",
      "Epoch 135/200\n",
      "6/6 [==============================] - 0s 702us/sample - loss: 0.1192\n",
      "Epoch 136/200\n",
      "6/6 [==============================] - 0s 379us/sample - loss: 0.1168\n",
      "Epoch 137/200\n",
      "6/6 [==============================] - 0s 418us/sample - loss: 0.1144\n",
      "Epoch 138/200\n",
      "6/6 [==============================] - 0s 265us/sample - loss: 0.1120\n",
      "Epoch 139/200\n",
      "6/6 [==============================] - 0s 329us/sample - loss: 0.1097\n",
      "Epoch 140/200\n",
      "6/6 [==============================] - 0s 337us/sample - loss: 0.1075\n",
      "Epoch 141/200\n",
      "6/6 [==============================] - 0s 424us/sample - loss: 0.1053\n",
      "Epoch 142/200\n",
      "6/6 [==============================] - 0s 381us/sample - loss: 0.1031\n",
      "Epoch 143/200\n",
      "6/6 [==============================] - 0s 956us/sample - loss: 0.1010\n",
      "Epoch 144/200\n",
      "6/6 [==============================] - 0s 391us/sample - loss: 0.0989\n",
      "Epoch 145/200\n",
      "6/6 [==============================] - 0s 453us/sample - loss: 0.0969\n",
      "Epoch 146/200\n",
      "6/6 [==============================] - 0s 542us/sample - loss: 0.0949\n",
      "Epoch 147/200\n",
      "6/6 [==============================] - 0s 480us/sample - loss: 0.0929\n",
      "Epoch 148/200\n",
      "6/6 [==============================] - 0s 440us/sample - loss: 0.0910\n",
      "Epoch 149/200\n",
      "6/6 [==============================] - 0s 375us/sample - loss: 0.0892\n",
      "Epoch 150/200\n",
      "6/6 [==============================] - 0s 792us/sample - loss: 0.0873\n",
      "Epoch 151/200\n",
      "6/6 [==============================] - 0s 447us/sample - loss: 0.0855\n",
      "Epoch 152/200\n",
      "6/6 [==============================] - 0s 380us/sample - loss: 0.0838\n",
      "Epoch 153/200\n",
      "6/6 [==============================] - 0s 430us/sample - loss: 0.0821\n",
      "Epoch 154/200\n",
      "6/6 [==============================] - 0s 341us/sample - loss: 0.0804\n",
      "Epoch 155/200\n",
      "6/6 [==============================] - 0s 944us/sample - loss: 0.0787\n",
      "Epoch 156/200\n",
      "6/6 [==============================] - 0s 326us/sample - loss: 0.0771\n",
      "Epoch 157/200\n",
      "6/6 [==============================] - 0s 525us/sample - loss: 0.0755\n",
      "Epoch 158/200\n",
      "6/6 [==============================] - 0s 456us/sample - loss: 0.0740\n",
      "Epoch 159/200\n",
      "6/6 [==============================] - 0s 466us/sample - loss: 0.0724\n",
      "Epoch 160/200\n",
      "6/6 [==============================] - 0s 490us/sample - loss: 0.0710\n",
      "Epoch 161/200\n",
      "6/6 [==============================] - 0s 398us/sample - loss: 0.0695\n",
      "Epoch 162/200\n",
      "6/6 [==============================] - 0s 317us/sample - loss: 0.0681\n",
      "Epoch 163/200\n",
      "6/6 [==============================] - 0s 279us/sample - loss: 0.0667\n",
      "Epoch 164/200\n",
      "6/6 [==============================] - 0s 397us/sample - loss: 0.0653\n",
      "Epoch 165/200\n",
      "6/6 [==============================] - 0s 458us/sample - loss: 0.0640\n",
      "Epoch 166/200\n",
      "6/6 [==============================] - 0s 280us/sample - loss: 0.0627\n",
      "Epoch 167/200\n",
      "6/6 [==============================] - 0s 334us/sample - loss: 0.0614\n",
      "Epoch 168/200\n",
      "6/6 [==============================] - 0s 402us/sample - loss: 0.0601\n",
      "Epoch 169/200\n",
      "6/6 [==============================] - 0s 288us/sample - loss: 0.0589\n",
      "Epoch 170/200\n",
      "6/6 [==============================] - 0s 424us/sample - loss: 0.0577\n",
      "Epoch 171/200\n",
      "6/6 [==============================] - 0s 500us/sample - loss: 0.0565\n",
      "Epoch 172/200\n",
      "6/6 [==============================] - 0s 502us/sample - loss: 0.0553\n",
      "Epoch 173/200\n",
      "6/6 [==============================] - 0s 587us/sample - loss: 0.0542\n",
      "Epoch 174/200\n",
      "6/6 [==============================] - 0s 449us/sample - loss: 0.0531\n",
      "Epoch 175/200\n",
      "6/6 [==============================] - 0s 372us/sample - loss: 0.0520\n",
      "Epoch 176/200\n",
      "6/6 [==============================] - 0s 568us/sample - loss: 0.0509\n",
      "Epoch 177/200\n",
      "6/6 [==============================] - 0s 343us/sample - loss: 0.0499\n",
      "Epoch 178/200\n",
      "6/6 [==============================] - 0s 370us/sample - loss: 0.0488\n",
      "Epoch 179/200\n",
      "6/6 [==============================] - 0s 407us/sample - loss: 0.0478\n",
      "Epoch 180/200\n",
      "6/6 [==============================] - 0s 486us/sample - loss: 0.0469\n",
      "Epoch 181/200\n",
      "6/6 [==============================] - 0s 374us/sample - loss: 0.0459\n",
      "Epoch 182/200\n",
      "6/6 [==============================] - 0s 457us/sample - loss: 0.0449\n",
      "Epoch 183/200\n",
      "6/6 [==============================] - 0s 312us/sample - loss: 0.0440\n",
      "Epoch 184/200\n",
      "6/6 [==============================] - 0s 495us/sample - loss: 0.0431\n",
      "Epoch 185/200\n",
      "6/6 [==============================] - 0s 514us/sample - loss: 0.0422\n",
      "Epoch 186/200\n",
      "6/6 [==============================] - 0s 458us/sample - loss: 0.0414\n",
      "Epoch 187/200\n",
      "6/6 [==============================] - 0s 383us/sample - loss: 0.0405\n",
      "Epoch 188/200\n",
      "6/6 [==============================] - 0s 790us/sample - loss: 0.0397\n",
      "Epoch 189/200\n",
      "6/6 [==============================] - 0s 353us/sample - loss: 0.0389\n",
      "Epoch 190/200\n",
      "6/6 [==============================] - 0s 584us/sample - loss: 0.0381\n",
      "Epoch 191/200\n",
      "6/6 [==============================] - 0s 331us/sample - loss: 0.0373\n",
      "Epoch 192/200\n",
      "6/6 [==============================] - 0s 539us/sample - loss: 0.0365\n",
      "Epoch 193/200\n",
      "6/6 [==============================] - 0s 438us/sample - loss: 0.0358\n",
      "Epoch 194/200\n",
      "6/6 [==============================] - 0s 513us/sample - loss: 0.0350\n",
      "Epoch 195/200\n",
      "6/6 [==============================] - 0s 372us/sample - loss: 0.0343\n",
      "Epoch 196/200\n",
      "6/6 [==============================] - 0s 252us/sample - loss: 0.0336\n",
      "Epoch 197/200\n",
      "6/6 [==============================] - 0s 390us/sample - loss: 0.0329\n"
     ]
    },
    {
     "name": "stdout",
     "output_type": "stream",
     "text": [
      "Epoch 198/200\n",
      "6/6 [==============================] - 0s 265us/sample - loss: 0.0322\n",
      "Epoch 199/200\n",
      "6/6 [==============================] - 0s 270us/sample - loss: 0.0316\n",
      "Epoch 200/200\n",
      "6/6 [==============================] - 0s 314us/sample - loss: 0.0309\n"
     ]
    },
    {
     "data": {
      "text/plain": [
       "<tensorflow.python.keras.callbacks.History at 0x7f2a105f4fd0>"
      ]
     },
     "execution_count": 25,
     "metadata": {},
     "output_type": "execute_result"
    }
   ],
   "source": [
    "model.fit(xs, ys, epochs=200)"
   ]
  },
  {
   "cell_type": "code",
   "execution_count": 27,
   "metadata": {},
   "outputs": [
    {
     "name": "stdout",
     "output_type": "stream",
     "text": [
      "[[37.743076]]\n"
     ]
    }
   ],
   "source": [
    "print(model.predict([20.0]))"
   ]
  },
  {
   "cell_type": "code",
   "execution_count": null,
   "metadata": {},
   "outputs": [],
   "source": []
  }
 ],
 "metadata": {
  "kernelspec": {
   "display_name": "Python [conda env:tfml] *",
   "language": "python",
   "name": "conda-env-tfml-tfml"
  },
  "language_info": {
   "codemirror_mode": {
    "name": "ipython",
    "version": 3
   },
   "file_extension": ".py",
   "mimetype": "text/x-python",
   "name": "python",
   "nbconvert_exporter": "python",
   "pygments_lexer": "ipython3",
   "version": "3.7.6"
  }
 },
 "nbformat": 4,
 "nbformat_minor": 4
}
