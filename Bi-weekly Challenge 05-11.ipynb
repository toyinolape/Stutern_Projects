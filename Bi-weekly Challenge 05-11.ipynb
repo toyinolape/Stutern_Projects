{
 "cells": [
  {
   "cell_type": "markdown",
   "metadata": {},
   "source": [
    "BI WEEKLY CHALLENGE\n",
    "\n",
    "\n",
    "Beautiful is better than ugly.\n",
    "Explicit is better than implicit.\n",
    "Simple is better than complex.\n",
    "Complex is better than complicated.\n",
    "                                  ~ Zen Of Python.\n",
    "\n",
    "CHALLENGE:\n",
    "Write a python program that prompts for inputs from the user. The inputs should be the user's name and the age.\n",
    "Print the user’s name and age\n",
    "Calculate the user’s DOB using the age and print to screen\n",
    "State which age group the user belongs to  How are the different age groups defined? – Conduent Healthy Communities Institute\n",
    "What was the user’s age a decade ago? (print to screen)\n",
    "For the next 50 years, print what the user’s age will be after every decade (NB: The current year is 2020 :))\n",
    "\n",
    "SAMPLE OUTPUT:\n",
    "\n",
    "Hello John Doe, you are 3 years old\n",
    "Your year of birth is 2051\n",
    "As you are 3 years old, you are an adult\n",
    "In 2046 you were -7 years old\n",
    "In 2064 you’ll be 13y.o\n",
    "In 2074 you’ll be 23y.o\n",
    ".\n",
    ".\n",
    "In 2104 you’ll be 53y.o\n",
    "\n",
    "\n",
    "BONUS:\n",
    "Use comments Inline and Multiline comment when necessary \n",
    "You can include gender as an input and customize salutation (Mr if user is a male)\n",
    "You can try handling error from the users input\n",
    "You can turn the program to a function (hint: def )\n",
    "You can extend the program by adding other parts to it (Be Creative) but make sure your code works\n",
    "\n",
    "SUBMISSION:\n",
    "\n",
    "You can submit a jupyter notebook or a python script, make sure there is no error. File should be uploaded on Trello\n",
    "\n",
    "RESOURCES\n",
    "\n",
    "How are the different age groups defined? – Conduent Healthy Communities Institute\n",
    "Python Try Except\n",
    "Writing Comments in Python (Guide) – Real Python\n",
    "Stack Overflow = Programmers' Best Friend | by Om Ashish Mishra\n",
    "All you need\n"
   ]
  },
  {
   "cell_type": "markdown",
   "metadata": {},
   "source": [
    "Set the Current year for DOB calculations. Since the user will input only the age we can only calculate the year of birth."
   ]
  },
  {
   "cell_type": "code",
   "execution_count": 1,
   "metadata": {
    "scrolled": true
   },
   "outputs": [
    {
     "name": "stdout",
     "output_type": "stream",
     "text": [
      "<class 'int'>\n"
     ]
    }
   ],
   "source": [
    "#import the datetime function from the date library \n",
    "from datetime import date\n",
    "current_date = date.today()\n",
    "current_year = current_date.year\n",
    "print(type(current_year))"
   ]
  },
  {
   "cell_type": "markdown",
   "metadata": {},
   "source": [
    "Function to Ensure the users age group is defined."
   ]
  },
  {
   "cell_type": "code",
   "execution_count": 2,
   "metadata": {},
   "outputs": [],
   "source": [
    "\"\"\"\n",
    "Children: <18, <11 or K - 7th grade\n",
    "Infants: <1\n",
    "Teens: 12-17 or 7th-12th grade\n",
    "Adults: 18+\n",
    "Elderly: 65+\n",
    "\"\"\"\n",
    "def age_grade(age):\n",
    "    \n",
    "    age_num = int(age)\n",
    "    if age_num < 1:\n",
    "        return \"Infant\"\n",
    "    elif age_num < 11:\n",
    "        return \"Child\"\n",
    "    elif age_num < 18:\n",
    "        return \"Teen\"\n",
    "    elif age_num < 65:\n",
    "        return \"Adult\"\n",
    "    else:\n",
    "        return \"Elder\"\n",
    "    "
   ]
  },
  {
   "cell_type": "markdown",
   "metadata": {},
   "source": [
    "Define function to print the all line of commands"
   ]
  },
  {
   "cell_type": "code",
   "execution_count": 3,
   "metadata": {},
   "outputs": [],
   "source": [
    "def details(name, age):\n",
    "    \n",
    "    DOB = current_year - age\n",
    "        \n",
    "    print(f\"Hello {name}, you are {age} years old\")\n",
    "    print(f\"Your year of birth is {DOB}\")\n",
    "    \n",
    "    article = \"an\" if age_grade(age)[0].lower() in \"aeiou\" else\"a\" #To change the article before the age grade\n",
    "        \n",
    "    print(f\"As you are {age} years old, you are {article} {age_grade(age)}\")   \n",
    "    print(f\"In {current_year-10} you were {int(age)-10} years old\")    \n",
    "    \n",
    "    inc = current_year + 10\n",
    "    decade = 10\n",
    "    \n",
    "    for i in range(5):\n",
    "        \n",
    "        print(f\"In {inc} you'll be {age} years old\")\n",
    "        inc += decade     \n",
    "        age += decade\n",
    "            \n",
    "        "
   ]
  },
  {
   "cell_type": "markdown",
   "metadata": {},
   "source": [
    "Input required Values for code to run "
   ]
  },
  {
   "cell_type": "code",
   "execution_count": 4,
   "metadata": {},
   "outputs": [
    {
     "name": "stdout",
     "output_type": "stream",
     "text": [
      "Enter your name: Toyin \n",
      "Enter your age: 25\n",
      "Hello Toyin , you are 25 years old\n",
      "Your year of birth is 1995\n",
      "As you are 25 years old, you are an Adult\n",
      "In 2010 you were 15 years old\n",
      "In 2030 you'll be 25 years old\n",
      "In 2040 you'll be 35 years old\n",
      "In 2050 you'll be 45 years old\n",
      "In 2060 you'll be 55 years old\n",
      "In 2070 you'll be 65 years old\n"
     ]
    }
   ],
   "source": [
    "    \n",
    "try:\n",
    "    name = input(\"Enter your name: \")\n",
    "    age = int(input(\"Enter your age: \"))\n",
    "except:\n",
    "    print(\"Please input your age as a number\")\n",
    "    \n",
    "details(name,age)"
   ]
  },
  {
   "cell_type": "code",
   "execution_count": null,
   "metadata": {},
   "outputs": [],
   "source": []
  }
 ],
 "metadata": {
  "kernelspec": {
   "display_name": "Python 3",
   "language": "python",
   "name": "python3"
  },
  "language_info": {
   "codemirror_mode": {
    "name": "ipython",
    "version": 3
   },
   "file_extension": ".py",
   "mimetype": "text/x-python",
   "name": "python",
   "nbconvert_exporter": "python",
   "pygments_lexer": "ipython3",
   "version": "3.7.3"
  }
 },
 "nbformat": 4,
 "nbformat_minor": 2
}
